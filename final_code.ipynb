{
  "nbformat": 4,
  "nbformat_minor": 0,
  "metadata": {
    "colab": {
      "provenance": [],
      "collapsed_sections": [],
      "mount_file_id": "1sg3HIFoO__MVFjKKsPXE_Rgxc-H2CcET",
      "authorship_tag": "ABX9TyP0utHnqxrRnztvuw2uzbVH",
      "include_colab_link": true
    },
    "kernelspec": {
      "name": "python3",
      "display_name": "Python 3"
    },
    "language_info": {
      "name": "python"
    }
  },
  "cells": [
    {
      "cell_type": "markdown",
      "metadata": {
        "id": "view-in-github",
        "colab_type": "text"
      },
      "source": [
        "<a href=\"https://colab.research.google.com/github/nicholassung97/PINNsforPrognostics/blob/main/final_code.ipynb\" target=\"_parent\"><img src=\"https://colab.research.google.com/assets/colab-badge.svg\" alt=\"Open In Colab\"/></a>"
      ]
    },
    {
      "cell_type": "markdown",
      "metadata": {
        "id": "F5Uxftl4OJnM"
      },
      "source": [
        "# Import Libraries"
      ]
    },
    {
      "cell_type": "code",
      "metadata": {
        "id": "6UKM2RmuLU2L"
      },
      "source": [
        "import sys\n",
        "# Import Libraries\n",
        "import tensorflow as tf\n",
        "import numpy as np\n",
        "import scipy.io\n",
        "import pandas as pd\n",
        "import tensorflow_probability as tfp\n",
        "import time\n",
        "from datetime import datetime\n",
        "import os\n",
        "import matplotlib.pyplot as plt"
      ],
      "execution_count": null,
      "outputs": []
    },
    {
      "cell_type": "markdown",
      "metadata": {
        "id": "B70wYmerOPos"
      },
      "source": [
        "## Tf 2.0 Preloaded classes"
      ]
    },
    {
      "cell_type": "code",
      "metadata": {
        "id": "WHEFpbwcL_HU"
      },
      "source": [
        "class Logger(object):\n",
        "  def __init__(self, frequency=10):\n",
        "    print(\"TensorFlow version: {}\".format(tf.__version__))\n",
        "    print(\"Eager execution: {}\".format(tf.executing_eagerly()))\n",
        "    print(\"GPU-accerelated: {}\".format(tf.test.is_gpu_available()))\n",
        "\n",
        "    self.start_time = time.time()\n",
        "    self.frequency = frequency\n",
        "\n",
        "  def __get_elapsed(self):\n",
        "    return datetime.fromtimestamp(time.time() - self.start_time).strftime(\"%M:%S\")\n",
        "\n",
        "  def __get_error_u(self):\n",
        "    return self.error_fn()\n",
        "\n",
        "  def set_error_fn(self, error_fn):\n",
        "    self.error_fn = error_fn\n",
        "  \n",
        "  def log_train_start(self, model):\n",
        "    print(\"\\nTraining started\")\n",
        "    print(\"================\")\n",
        "    self.model = model\n",
        "    print(self.model.summary())\n",
        "\n",
        "  def log_train_epoch(self, epoch, loss, custom=\"\", is_iter=False):\n",
        "    if epoch % self.frequency == 0:\n",
        "      print(f\"{'nt_epoch' if is_iter else 'tf_epoch'} = {epoch:6d}  elapsed = {self.__get_elapsed()}  loss = {loss:.4e} \" + custom)\n",
        "\n",
        "  def log_train_opt(self, name):\n",
        "    # print(f\"tf_epoch =      0  elapsed = 00:00  loss = 2.7391e-01  error = 9.0843e-01\")\n",
        "    print(f\"—— Starting {name} optimization ——\")\n",
        "\n",
        "  def log_train_end(self, epoch, custom=\"\"):\n",
        "    print(\"==================\")\n",
        "    print(f\"Training finished (epoch {epoch}): duration = {self.__get_elapsed()}  error = {self.__get_error_u():.4e}  \" + custom)"
      ],
      "execution_count": null,
      "outputs": []
    },
    {
      "cell_type": "code",
      "metadata": {
        "id": "jTHB_3EWMIkF"
      },
      "source": [
        "# # Adapted from https://github.com/yaroslavvb/stuff/blob/master/eager_lbfgs/eager_lbfgs.py\n",
        "\n",
        "# # Time tracking functions\n",
        "global_time_list = []\n",
        "global_last_time = 0\n",
        "def reset_time():\n",
        "  global global_time_list, global_last_time\n",
        "  global_time_list = []\n",
        "  global_last_time = time.perf_counter()\n",
        "  \n",
        "def record_time():\n",
        "  global global_last_time, global_time_list\n",
        "  new_time = time.perf_counter()\n",
        "  global_time_list.append(new_time - global_last_time)\n",
        "  global_last_time = time.perf_counter()\n",
        "  #print(\"step: %.2f\"%(global_time_list[-1]*1000))\n",
        "\n",
        "def last_time():\n",
        "  \"\"\"Returns last interval records in millis.\"\"\"\n",
        "  global global_last_time, global_time_list\n",
        "  if global_time_list:\n",
        "    return 1000 * global_time_list[-1]\n",
        "  else:\n",
        "    return 0\n",
        "\n",
        "class dummy(object):\n",
        "  pass\n",
        "\n",
        "class Struct(dummy):\n",
        "  def __getattribute__(self, key):\n",
        "    if key == '__dict__':\n",
        "      return super(dummy, self).__getattribute__('__dict__')\n",
        "    return self.__dict__.get(key, 0)"
      ],
      "execution_count": null,
      "outputs": []
    },
    {
      "cell_type": "markdown",
      "metadata": {
        "id": "Rn424F4qNtc7"
      },
      "source": [
        "# Fisher's Ratio for Feature Selection"
      ]
    },
    {
      "cell_type": "code",
      "metadata": {
        "colab": {
          "base_uri": "https://localhost:8080/"
        },
        "id": "jCZQP_buKicM",
        "outputId": "cd84b611-c3ab-41b1-fc16-ad4534e2c94d"
      },
      "source": [
        "%cd '/content/drive/My Drive/FYP/Jan2022/FeatureSelection'"
      ],
      "execution_count": null,
      "outputs": [
        {
          "output_type": "stream",
          "name": "stdout",
          "text": [
            "/content/drive/My Drive/FYP/Jan2022/FeatureSelection\n"
          ]
        }
      ]
    },
    {
      "cell_type": "code",
      "metadata": {
        "id": "TwQq-yq5MMaK"
      },
      "source": [
        "data_mat = scipy.io.loadmat('DataTennessee_FE(Time_Statistics,0.5s,overlap=0).mat')\n",
        "data_all = data_mat['DATA']\n",
        "data_all_cycle = data_mat['InfoMat']"
      ],
      "execution_count": null,
      "outputs": []
    },
    {
      "cell_type": "code",
      "metadata": {
        "id": "7pYa2EdlNlQ-"
      },
      "source": [
        "\n",
        "data_feature = ['p1', 'p2', 'p3', 'p4', 'p5', 'p6', 'p7', 'p8', 'p9', 'p10', 'p11' ]\n",
        "data_signal = ['Current1', 'Current2', 'Current3', 'Voltage1', 'Voltage2', 'Voltage3', 'Accelerometer1', 'Accelerometer2', 'Microphone', 'Tachometer', 'Temperature']\n",
        "\"\"\"Labelling Plus Converting to Pandas Data Frame\"\"\"\n",
        "data_column = []\n",
        "for i in data_signal:\n",
        "  for j in data_feature:\n",
        "    data_column.append(i + \"_\" + j)\n",
        "df = pd.DataFrame(data_all, columns = data_column)\n",
        "df1 = pd.DataFrame(data_all_cycle, columns = ['motor_id', 'cycle', 'ignored'])\n",
        "df_total = pd.concat([df, df1], axis=1, join=\"inner\")\n",
        "\"\"\"Engine Data\"\"\"\n",
        "eng_healthy = df_total[(df_total.cycle.isin([1,2,3,4]))]\n",
        "eng_healthy.pop('ignored')\n",
        "eng_healthy_mean = []\n",
        "eng_healthy_var = []\n",
        "for feature_name in data_column:\n",
        "  eng_healthy_mean.append(eng_healthy[feature_name].mean())\n",
        "  eng_healthy_var.append(eng_healthy[feature_name].var())\n",
        "eng_healthy_mean = np.array(eng_healthy_mean)\n",
        "eng_healthy_var = np.array(eng_healthy_var)\n",
        "eng_faulty = df_total[((df_total.motor_id == 1) & (df_total.cycle >=15))| ((df_total.motor_id == 2) & (df_total.cycle >=25))| ((df_total.motor_id == 3) & (df_total.cycle >=23))| ((df_total.motor_id == 4) & (df_total.cycle >=26))| ((df_total.motor_id == 5) & (df_total.cycle >=25))| ((df_total.motor_id == 6) & (df_total.cycle >=24))| ((df_total.motor_id == 7) & (df_total.cycle >=24))| ((df_total.motor_id == 9) & (df_total.cycle >=22))]\n",
        "eng_faulty.pop('ignored')\n",
        "eng_faulty_mean = []\n",
        "eng_faulty_var = []\n",
        "for feature_name in data_column:\n",
        "  eng_faulty_mean.append(eng_faulty[feature_name].mean())\n",
        "  eng_faulty_var.append(eng_faulty[feature_name].var())\n",
        "eng_faulty_mean = np.array(eng_faulty_mean)\n",
        "eng_faulty_var = np.array(eng_faulty_var)\n",
        "fisher_ratio = np.square(eng_healthy_mean - eng_faulty_mean)/(eng_healthy_var + eng_faulty_var)\n",
        "###### Select the top number of features to choose\n",
        "## change the number of features\n",
        "select_top_feature = 20\n",
        "fisher_ratio_index = fisher_ratio.argsort()[(-1*select_top_feature):][::-1]"
      ],
      "execution_count": null,
      "outputs": []
    },
    {
      "cell_type": "markdown",
      "metadata": {
        "id": "9jligBAaS8gv"
      },
      "source": [
        "# Creating PINNs Class"
      ]
    },
    {
      "cell_type": "code",
      "metadata": {
        "id": "WoIkmapWS6N1"
      },
      "source": [
        "class PhysicsInformedNN(object):\n",
        "  def __init__(self, layers, optimizer, logger, feature_f_train, cycle_f_train, ub, lb):\n",
        "    # Descriptive Keras model [no of features, 50, 1]\n",
        "    self.hi_model = tf.keras.Sequential()\n",
        "    self.hi_model.add(tf.keras.layers.InputLayer(input_shape=(layers[0],)))\n",
        "    self.hi_model.add(tf.keras.layers.Lambda(\n",
        "      lambda X: 2.0*(X - lb)/(ub - lb) - 1.0))\n",
        "    for width in layers[1:]:\n",
        "        self.hi_model.add(tf.keras.layers.Dense(\n",
        "          width, activation=tf.math.sigmoid,\n",
        "          kernel_initializer='glorot_normal'))\n",
        "\n",
        "    # Computing the sizes of weights/biases for future decomposition\n",
        "    self.sizes_w = []\n",
        "    self.sizes_b = []\n",
        "    for i, width in enumerate(layers):\n",
        "      if i != 1:\n",
        "        self.sizes_w.append(int(width * layers[1]))\n",
        "        self.sizes_b.append(int(width if i != 0 else layers[1]))\n",
        "\n",
        "    self.optimizer = optimizer\n",
        "    self.logger = logger\n",
        "    self.dtype = tf.float32\n",
        "    self.cycle_f_train = cycle_f_train\n",
        "    self.feature_f_train = feature_f_train\n",
        "    self.max_cycle = int(max(cycle_f_train))\n",
        "    # self.feature_f_train_tf = tf.convert_to_tensor(feature_f_train, dtype=self.dtype)\n"
      ],
      "execution_count": null,
      "outputs": []
    },
    {
      "cell_type": "markdown",
      "metadata": {
        "id": "HEiof-vQXqUe"
      },
      "source": [
        "Weights and Biases Initialisation"
      ]
    },
    {
      "cell_type": "code",
      "metadata": {
        "id": "hIAiclC1Ux6P"
      },
      "source": [
        "def get_weights(self):\n",
        "  w = []\n",
        "  for layer in self.hi_model.layers[1:]:\n",
        "    weights_biases = layer.get_weights()\n",
        "    weights = weights_biases[0].flatten()\n",
        "    biases = weights_biases[1]\n",
        "    w.extend(weights)\n",
        "    w.extend(biases)\n",
        "  return tf.convert_to_tensor(w, dtype=self.dtype)\n",
        "PhysicsInformedNN.get_weights = get_weights\n",
        "def set_weights(self, w):\n",
        "  for i, layer in enumerate(self.hi_model.layers[1:]):\n",
        "    start_weights = sum(self.sizes_w[:i]) + sum(self.sizes_b[:i])\n",
        "    end_weights = sum(self.sizes_w[:i+1]) + sum(self.sizes_b[:i])\n",
        "    weights = w[start_weights:end_weights]\n",
        "    w_div = int(self.sizes_w[i] / self.sizes_b[i])\n",
        "    weights = tf.reshape(weights, [w_div, self.sizes_b[i]])\n",
        "    biases = w[end_weights:end_weights + self.sizes_b[i]]\n",
        "    weights_biases = [weights, biases]\n",
        "    layer.set_weights(weights_biases)\n",
        "PhysicsInformedNN.set_weights = set_weights\n",
        "def summary(self):\n",
        "  return self.hi_model.summary()\n",
        "PhysicsInformedNN.summary = summary"
      ],
      "execution_count": null,
      "outputs": []
    },
    {
      "cell_type": "markdown",
      "metadata": {
        "id": "_3wZrEU3XwY9"
      },
      "source": [
        "Loss"
      ]
    },
    {
      "cell_type": "code",
      "metadata": {
        "id": "NJpEjFWAVFG8"
      },
      "source": [
        "# Defining custom loss\n",
        "def __loss(self, hi, hi_pred):\n",
        "  # f_pred = self.f_model()\n",
        "  cost1 = self.net_cost1()\n",
        "  cost2 = self.net_cost2()\n",
        "  cost3 = self.net_cost3()\n",
        "  \n",
        "  \n",
        "  return tf.reduce_mean(tf.square(hi - hi_pred)) + \\\n",
        "  tf.reduce_mean(tf.square(cost1))+ \\\n",
        "  tf.reduce_mean(tf.square(cost2))+ \\\n",
        "  tf.reduce_mean(tf.square(cost3))\n",
        "PhysicsInformedNN.__loss = __loss\n",
        "\n",
        "def __grad(self, feature, hi):\n",
        "  with tf.GradientTape() as tape:\n",
        "    loss_value = self.__loss(hi, self.hi_model(feature))\n",
        "  return loss_value, tape.gradient(loss_value, self.__wrap_training_variables())\n",
        "PhysicsInformedNN.__grad = __grad\n",
        "\n",
        "def __wrap_training_variables(self):\n",
        "  var = self.hi_model.trainable_variables\n",
        "  return var\n",
        "PhysicsInformedNN.__wrap_training_variables = __wrap_training_variables"
      ],
      "execution_count": null,
      "outputs": []
    },
    {
      "cell_type": "markdown",
      "metadata": {
        "id": "9C8slwNBX-_c"
      },
      "source": [
        "PINNs"
      ]
    },
    {
      "cell_type": "code",
      "source": [
        "# Create an array which can add all the changes\n",
        "total_change = []\n",
        "# Create a for loop for each cycle\n",
        "for i in range(1, self.max_cycle):\n",
        "  # Obtain features for cycle i\n",
        "  feature_cycle1 = self.feature_f_train[self.cycle_f_train[:,0] == i]\n",
        "  # Obtain features for cycle i+1\n",
        "  feature_cycle2 = self.feature_f_train[self.cycle_f_train[:,0] == i+1]\n",
        "  # Input features for cycle i into model to obtain predicted HI\n",
        "  hi_cycle1 = self.hi_model(feature_cycle1)\n",
        "  # Input features for cycle i+1 into model to botain predicted HI\n",
        "  hi_cycle2 = self.hi_model(feature_cycle2)\n",
        "  # Obtain the difference in the mean. We want difference to be equal to or less than\n",
        "  change = tf.math.reduce_mean(hi_cycle2) - tf.math.reduce_mean(hi_cycle1)\n",
        "  # Append difference into array\n",
        "  total_change.append(change)\n",
        "# Reshape the array into an nx1 array\n",
        "total_change = tf.stack(total_change)\n",
        "# Pass the array into an ReLu function\n",
        "cost1 = tf.keras.activations.relu(total_change)\n",
        "# Obtain the mean square error of the array\n",
        "loss1 = tf.reduce_mean(tf.square(cost1))\n"
      ],
      "metadata": {
        "id": "anzSiWTh9TX7"
      },
      "execution_count": null,
      "outputs": []
    },
    {
      "cell_type": "code",
      "source": [
        "# Create an array which can add all the drops\n",
        "total_drop = []\n",
        "# Create a for loop for each cycle\n",
        "for i in range(1, self.max_cycle):\n",
        "# Obtain features for cycle i\n",
        "  feature_cycle1 = self.feature_f_train[self.cycle_f_train[:,0] == i]\n",
        "  # Obtain features for cycle i+1\n",
        "  feature_cycle2 = self.feature_f_train[self.cycle_f_train[:,0] == i+1]\n",
        "  # Input features for cycle i into model to obtain predicted HI\n",
        "  hi_cycle1 = self.hi_model(feature_cycle1)\n",
        "  # Input features for cycle i+1 into model to botain predicted HI\n",
        "  hi_cycle2 = self.hi_model(feature_cycle2)\n",
        "  # hi previous - hi_subsequent = 0.2*hi previous\n",
        "  drop = 0.8 * tf.math.reduce_mean(hi_cycle1) - tf.math.reduce_mean(hi_cycle2)\n",
        "  # Append drop into array\n",
        "  total_drop.append(drop)\n",
        "# Reshape the array into an nx1 array\n",
        "total_drop = tf.stack(total_drop)\n",
        "# Pass the array into an ReLu function\n",
        "cost3 = tf.keras.activations.relu(total_drop)\n",
        "# Obtain the mean square error of the array\n",
        "loss3 = tf.reduce_mean(tf.square(cost3))"
      ],
      "metadata": {
        "id": "NDeHa5N_F4u_"
      },
      "execution_count": null,
      "outputs": []
    },
    {
      "cell_type": "code",
      "source": [
        "# Create an array which can add all the MAPE\n",
        "total_mape = []\n",
        "# Create a for loop for each cycle\n",
        "for i in range(1, self.max_cycle+1):\n",
        "  # Obtain features for cycle i\n",
        "  feature_cycle1 = self.feature_f_train[self.cycle_f_train[:, 0] == i]\n",
        "  # Input features for cycle i into model to obtain predicted HI\n",
        "  hi_pred = self.hi_model(feature_cycle1)\n",
        "  # Find the mean of the predicted HI values\n",
        "  hi_true = tf.math.reduce_mean(hi_pred)\n",
        "  # Obtain the MAPE for cycle i\n",
        "  mape = tf.stack(tf.keras.metrics.mean_absolute_percentage_error(hi_true, hi_pred))\n",
        "  # Append MAPE into array\n",
        "  total_mape = tf.concat([total_mape, mape],0)\n",
        "# Reshape the array into an nx1 array\n",
        "loss2 = tf.stack(total_mape)\n"
      ],
      "metadata": {
        "id": "eKiz04DsCvOC"
      },
      "execution_count": null,
      "outputs": []
    },
    {
      "cell_type": "code",
      "metadata": {
        "id": "6aneobGfaOKj"
      },
      "source": [
        "# cost1 represents cycle2 must be less than cycle1\n",
        "def net_cost1(self):\n",
        "    total_change = []\n",
        "    for i in range(1, self.max_cycle):\n",
        "        feature_cycle1 = self.feature_f_train[self.cycle_f_train[:,0] == i]\n",
        "        feature_cycle2 = self.feature_f_train[self.cycle_f_train[:,0] == i+1]\n",
        "        hi_cycle1 = self.hi_model(feature_cycle1)\n",
        "        hi_cycle2 = self.hi_model(feature_cycle2)\n",
        "        change = tf.math.reduce_mean(hi_cycle2) - tf.math.reduce_mean(hi_cycle1)\n",
        "        total_change.append(change)\n",
        "    total_change = tf.stack(total_change)\n",
        "    # cost1 = tf.keras.activations.hard_sigmoid(total_change)\n",
        "    cost1 = tf.keras.activations.relu(total_change)\n",
        "    # cost1 = tf.math.sigmoid(total_change)\n",
        "    return cost1\n",
        "PhysicsInformedNN.net_cost1 = net_cost1"
      ],
      "execution_count": null,
      "outputs": []
    },
    {
      "cell_type": "code",
      "metadata": {
        "id": "WpwX0vE8ag3P"
      },
      "source": [
        "# cost2 represents the deviation of the HI-value for within each cycle cannot be too huge\n",
        "def net_cost2(self):\n",
        "    total_mape = []\n",
        "    for i in range(1, self.max_cycle+1):\n",
        "        feature_cycle1 = self.feature_f_train[self.cycle_f_train[:, 0] == i]\n",
        "        hi_pred = self.hi_model(feature_cycle1)\n",
        "        hi_true = tf.math.reduce_mean(hi_pred)\n",
        "        mape = tf.stack(tf.keras.metrics.mean_absolute_percentage_error(hi_true, hi_pred))\n",
        "        total_mape = tf.concat([total_mape, mape],0)\n",
        "    cost2 = tf.stack(total_mape)\n",
        "    return cost2\n",
        "PhysicsInformedNN.net_cost2 = net_cost2"
      ],
      "execution_count": null,
      "outputs": []
    },
    {
      "cell_type": "code",
      "metadata": {
        "id": "DTzfMoRBamFr"
      },
      "source": [
        "# cost3 represents the drop between each value cannot be too big\n",
        "def net_cost3(self):\n",
        "    total_drop = []\n",
        "    for i in range(1, self.max_cycle):\n",
        "        feature_cycle1 = self.feature_f_train[self.cycle_f_train[:, 0] == i]\n",
        "        feature_cycle2 = self.feature_f_train[self.cycle_f_train[:, 0] == i + 1]\n",
        "        hi_cycle1 = self.hi_model(feature_cycle1)\n",
        "        hi_cycle2 = self.hi_model(feature_cycle2)\n",
        "        # hi previous - hi_subsequent = 0.2*hi previous\n",
        "        drop = 0.8 * tf.math.reduce_mean(hi_cycle1) - tf.math.reduce_mean(hi_cycle2)\n",
        "        total_drop.append(drop)\n",
        "    total_drop = tf.stack(total_drop)\n",
        "    cost3 = tf.keras.activations.relu(total_drop)\n",
        "    # cost3 = tf.math.sigmoid(total_drop)\n",
        "    return cost3\n",
        "PhysicsInformedNN.net_cost3 = net_cost3"
      ],
      "execution_count": null,
      "outputs": []
    },
    {
      "cell_type": "markdown",
      "metadata": {
        "id": "FQSM1ZFZYBBb"
      },
      "source": [
        "Train"
      ]
    },
    {
      "cell_type": "code",
      "metadata": {
        "id": "BERIRKpTV_07"
      },
      "source": [
        "# The training function\n",
        "def fit(self, feature_b_train, hi_b_train, tf_epochs=300, nt_config=Struct()):\n",
        "  self.logger.log_train_start(self)\n",
        "\n",
        "  # Creating the tensors\n",
        "  feature_b_train = tf.convert_to_tensor(feature_b_train, dtype=self.dtype)\n",
        "  hi_b_train = tf.convert_to_tensor(hi_b_train, dtype=self.dtype)\n",
        "\n",
        "  self.logger.log_train_opt(\"Adam\")\n",
        "  for epoch in range(tf_epochs):\n",
        "    # Optimization step\n",
        "    loss_value, grads = self.__grad(feature_b_train, hi_b_train)\n",
        "    self.optimizer.apply_gradients(zip(grads, self.__wrap_training_variables()))\n",
        "    self.logger.log_train_epoch(epoch, loss_value)\n",
        "PhysicsInformedNN.fit = fit"
      ],
      "execution_count": null,
      "outputs": []
    },
    {
      "cell_type": "markdown",
      "metadata": {
        "id": "2NBl-C2sYC5N"
      },
      "source": [
        "Predict"
      ]
    },
    {
      "cell_type": "code",
      "metadata": {
        "id": "x-swQ3R6WBgl"
      },
      "source": [
        "def predict(self, feature):\n",
        "  hi_pred = self.hi_model(feature)\n",
        "  return hi_pred\n",
        "PhysicsInformedNN.predict = predict"
      ],
      "execution_count": null,
      "outputs": []
    },
    {
      "cell_type": "markdown",
      "metadata": {
        "id": "XhuJfDAqN_fT"
      },
      "source": [
        "# Training "
      ]
    },
    {
      "cell_type": "code",
      "metadata": {
        "id": "F6CV6rMtR6dU"
      },
      "source": [
        "# DeepNN topology \n",
        "layers = [int(len(fisher_ratio_index)), 50, 1]\n",
        "# Setting up the TF SGD-based optimizer (set tf_epochs=0 to cancel it)\n",
        "tf_epochs = 300\n",
        "# tf_optimizer = tf.keras.optimizers.Adam(\n",
        "#   learning_rate=0.1,\n",
        "#   beta_1=0.99,\n",
        "#   epsilon=1e-1)\n",
        "tf_optimizer = tf.keras.optimizers.Adam(learning_rate=0.0001, beta_1=0.9, beta_2=0.999, epsilon=1e-07, amsgrad=True,\n",
        "    name='Adam')\n",
        "# tf_optimizer = tf.keras.optimizers.Adagrad(\n",
        "#     learning_rate=0.001, initial_accumulator_value=0.1, epsilon=1e-07,\n",
        "#     name='Adagrad')\n",
        "nt_config = Struct()"
      ],
      "execution_count": null,
      "outputs": []
    },
    {
      "cell_type": "code",
      "metadata": {
        "id": "0_Bake3JNqPq"
      },
      "source": [
        "###### Select engine to train\n",
        "select_engine = 1\n",
        "select_engine_idx = np.where(data_all_cycle[:,0] == select_engine)[0]\n",
        "\n",
        "# extracts the top features for all engines\n",
        "data_feature = data_all[:, fisher_ratio_index]\n",
        "# extracts the top features for the selected engine\n",
        "feature_f_train = data_feature[select_engine_idx]\n",
        "# extracts only the cycles for all engines\n",
        "data_cycle = data_all_cycle[:,1:2]\n",
        "# extracts only the cycles for the selected engine\n",
        "cycle_f_train = data_cycle[select_engine_idx]\n",
        "\n",
        "\"\"\"Boundary Conditions for cycle, features and hi\"\"\"\n",
        "# First cycle\n",
        "min_cycle = int(min(cycle_f_train))\n",
        "select_min_cycle = np.where(cycle_f_train[:,0] == min_cycle)[0]\n",
        "# Last cycle\n",
        "max_cycle = int(max(cycle_f_train))\n",
        "select_max_cycle = np.where(cycle_f_train[:,0] == max_cycle)[0]\n",
        "\n",
        "# Features for the first cycle\n",
        "feature_first = feature_f_train[select_min_cycle]\n",
        "# Features for the last cycle\n",
        "feature_last = feature_f_train[select_max_cycle]\n",
        "# Features at the boundary conditions\n",
        "feature_b_train = np.vstack((feature_first, feature_last))\n",
        "\n",
        "# Ground state of HI for the boundary conditions\n",
        "hi_first = np.ones((len(select_min_cycle), 1))*1\n",
        "hi_last = np.ones((len(select_max_cycle), 1))*0.1\n",
        "# HI values at the boundary conditions\n",
        "hi_b_train = np.vstack((hi_first, hi_last))\n",
        "\n",
        "# Boundaries of the maximum and minimum features\n",
        "lb = feature_f_train.min(0)\n",
        "ub = feature_f_train.max(0)"
      ],
      "execution_count": null,
      "outputs": []
    },
    {
      "cell_type": "code",
      "metadata": {
        "colab": {
          "base_uri": "https://localhost:8080/"
        },
        "id": "uW5P1IKRXH6C",
        "outputId": "fe6ed005-aa8c-4d34-e0e0-41a2d40b5bfd"
      },
      "source": [
        "# Creating the model and training\n",
        "logger = Logger(frequency=10)\n",
        "pinn = PhysicsInformedNN(layers, tf_optimizer, logger, feature_f_train, cycle_f_train, ub, lb)\n",
        "# def error():\n",
        "#   hi_pred, _ = pinn.predict(feature_f_train)\n",
        "#   return np.linalg.norm(x_star - hi_pred, 2) / np.linalg.norm(x_star, 2)\n",
        "# logger.set_error_fn(error)\n",
        "pinn.fit(feature_b_train, hi_b_train, tf_epochs, nt_config)"
      ],
      "execution_count": null,
      "outputs": [
        {
          "output_type": "stream",
          "name": "stdout",
          "text": [
            "TensorFlow version: 2.8.0\n",
            "Eager execution: True\n",
            "WARNING:tensorflow:From <ipython-input-2-825f35e89533>:5: is_gpu_available (from tensorflow.python.framework.test_util) is deprecated and will be removed in a future version.\n",
            "Instructions for updating:\n",
            "Use `tf.config.list_physical_devices('GPU')` instead.\n",
            "GPU-accerelated: False\n",
            "\n",
            "Training started\n",
            "================\n",
            "Model: \"sequential\"\n",
            "_________________________________________________________________\n",
            " Layer (type)                Output Shape              Param #   \n",
            "=================================================================\n",
            " lambda (Lambda)             (None, 20)                0         \n",
            "                                                                 \n",
            " dense (Dense)               (None, 50)                1050      \n",
            "                                                                 \n",
            " dense_1 (Dense)             (None, 1)                 51        \n",
            "                                                                 \n",
            "=================================================================\n",
            "Total params: 1,101\n",
            "Trainable params: 1,101\n",
            "Non-trainable params: 0\n",
            "_________________________________________________________________\n",
            "None\n",
            "—— Starting Adam optimization ——\n",
            "tf_epoch =      0  elapsed = 00:01  loss = 2.5358e+00 \n",
            "tf_epoch =     10  elapsed = 00:06  loss = 2.0037e+00 \n",
            "tf_epoch =     20  elapsed = 00:12  loss = 1.5774e+00 \n",
            "tf_epoch =     30  elapsed = 00:20  loss = 1.2509e+00 \n",
            "tf_epoch =     40  elapsed = 00:27  loss = 1.0078e+00 \n",
            "tf_epoch =     50  elapsed = 00:32  loss = 8.2910e-01 \n",
            "tf_epoch =     60  elapsed = 00:38  loss = 6.9783e-01 \n",
            "tf_epoch =     70  elapsed = 00:41  loss = 6.0138e-01 \n",
            "tf_epoch =     80  elapsed = 00:44  loss = 5.3073e-01 \n",
            "tf_epoch =     90  elapsed = 00:46  loss = 4.7932e-01 \n",
            "tf_epoch =    100  elapsed = 00:49  loss = 4.4204e-01 \n",
            "tf_epoch =    110  elapsed = 00:51  loss = 4.1484e-01 \n",
            "tf_epoch =    120  elapsed = 00:54  loss = 3.9456e-01 \n",
            "tf_epoch =    130  elapsed = 00:57  loss = 3.7887e-01 \n",
            "tf_epoch =    140  elapsed = 00:59  loss = 3.6618e-01 \n",
            "tf_epoch =    150  elapsed = 01:02  loss = 3.5543e-01 \n",
            "tf_epoch =    160  elapsed = 01:05  loss = 3.4596e-01 \n",
            "tf_epoch =    170  elapsed = 01:08  loss = 3.3738e-01 \n",
            "tf_epoch =    180  elapsed = 01:13  loss = 3.2948e-01 \n",
            "tf_epoch =    190  elapsed = 01:17  loss = 3.2212e-01 \n",
            "tf_epoch =    200  elapsed = 01:22  loss = 3.1524e-01 \n",
            "tf_epoch =    210  elapsed = 01:27  loss = 3.0878e-01 \n",
            "tf_epoch =    220  elapsed = 01:32  loss = 3.0273e-01 \n",
            "tf_epoch =    230  elapsed = 01:36  loss = 2.9705e-01 \n",
            "tf_epoch =    240  elapsed = 01:41  loss = 2.9173e-01 \n",
            "tf_epoch =    250  elapsed = 01:44  loss = 2.8674e-01 \n",
            "tf_epoch =    260  elapsed = 01:46  loss = 2.8208e-01 \n",
            "tf_epoch =    270  elapsed = 01:49  loss = 2.7771e-01 \n",
            "tf_epoch =    280  elapsed = 01:53  loss = 2.7363e-01 \n",
            "tf_epoch =    290  elapsed = 01:58  loss = 2.6981e-01 \n"
          ]
        }
      ]
    },
    {
      "cell_type": "markdown",
      "source": [
        "# Test"
      ],
      "metadata": {
        "id": "cfSy7qoe0tFW"
      }
    },
    {
      "cell_type": "code",
      "metadata": {
        "id": "O0MYQsk7enkr"
      },
      "source": [
        "###### Select engine to test\n",
        "select_engine_to_test = 1\n",
        "select_engine_to_test_idx = np.where((data_all_cycle[:,0] == select_engine_to_test))[0]\n",
        "# extracts the top 20 features for the selected engine\n",
        "feature_f_test = data_feature[select_engine_to_test_idx]\n"
      ],
      "execution_count": null,
      "outputs": []
    },
    {
      "cell_type": "code",
      "metadata": {
        "id": "lVpAwxqTegmR"
      },
      "source": [
        "# Getting the model predictions, from the same (x,t) that the predictions were previously gotten from\n",
        "hi_pred = pinn.predict(feature_f_test)"
      ],
      "execution_count": null,
      "outputs": []
    },
    {
      "cell_type": "code",
      "metadata": {
        "colab": {
          "base_uri": "https://localhost:8080/",
          "height": 295
        },
        "id": "CefotRnmuywn",
        "outputId": "f960b52c-6cd2-4f1b-b82d-1a54953af1c3"
      },
      "source": [
        "cycle_f_test = data_cycle[select_engine_to_test_idx]\n",
        "# First cycle\n",
        "min_cycle_test = int(min(cycle_f_test))\n",
        "# Last cycle\n",
        "max_cycle_test = int(max(cycle_f_test))\n",
        "\n",
        "# Creating Mean values\n",
        "hi_pred_mean = []\n",
        "cycle_plot = []\n",
        "\n",
        "for i in range(min_cycle_test, max_cycle_test+1):\n",
        "    hi_mean_row = np.mean(hi_pred.numpy()[np.where(cycle_f_test[:,0] == i)[0]])\n",
        "    cycle_row = i\n",
        "    hi_pred_mean.append(hi_mean_row)\n",
        "    cycle_plot.append(cycle_row)\n",
        "\n",
        "\n",
        "# Plot the curve\n",
        "plt.title('Engine '+ str(select_engine_to_test) + ' - Health Index against No of Cycles')\n",
        "plt.plot(cycle_f_test, hi_pred, 'x', label='Predicted Value')\n",
        "plt.plot(cycle_plot, hi_pred_mean, '-r', label='Mean Predicted Value')\n",
        "plt.locator_params(axis='x', integer=True, tight=True)\n",
        "plt.legend()\n",
        "plt.xlabel('cycle')\n",
        "plt.ylabel('health index value')\n",
        "plt.show()"
      ],
      "execution_count": null,
      "outputs": [
        {
          "output_type": "display_data",
          "data": {
            "image/png": "[encoded data removed]",
            "text/plain": [
              "<Figure size 432x288 with 1 Axes>"
            ]
          },
          "metadata": {
            "needs_background": "light"
          }
        }
      ]
    }
  ]
}