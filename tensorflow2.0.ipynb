{
  "nbformat": 4,
  "nbformat_minor": 0,
  "metadata": {
    "colab": {
      "provenance": [],
      "collapsed_sections": [],
      "mount_file_id": "1sv27XlRUXyRK7JuW0tLzeuC1pTQues3h",
      "authorship_tag": "ABX9TyMjRrPumytYmy4M1BS9yMwk",
      "include_colab_link": true
    },
    "kernelspec": {
      "name": "python3",
      "display_name": "Python 3"
    },
    "language_info": {
      "name": "python"
    }
  },
  "cells": [
    {
      "cell_type": "markdown",
      "metadata": {
        "id": "view-in-github",
        "colab_type": "text"
      },
      "source": [
        "<a href=\"https://colab.research.google.com/github/nicholassung97/PINNsforPrognostics/blob/main/tensorflow2.0.ipynb\" target=\"_parent\"><img src=\"https://colab.research.google.com/assets/colab-badge.svg\" alt=\"Open In Colab\"/></a>"
      ]
    },
    {
      "cell_type": "markdown",
      "metadata": {
        "id": "F5Uxftl4OJnM"
      },
      "source": [
        "# Import Libraries"
      ]
    },
    {
      "cell_type": "code",
      "metadata": {
        "id": "6UKM2RmuLU2L"
      },
      "source": [
        "import sys\n",
        "# Import Libraries\n",
        "import tensorflow as tf\n",
        "import numpy as np\n",
        "import scipy.io\n",
        "import pandas as pd\n",
        "import tensorflow_probability as tfp\n",
        "import time\n",
        "from datetime import datetime\n",
        "import os\n",
        "import matplotlib.pyplot as plt"
      ],
      "execution_count": null,
      "outputs": []
    },
    {
      "cell_type": "markdown",
      "metadata": {
        "id": "B70wYmerOPos"
      },
      "source": [
        "## Tf 2.0 Preloaded classes"
      ]
    },
    {
      "cell_type": "code",
      "metadata": {
        "id": "WHEFpbwcL_HU"
      },
      "source": [
        "class Logger(object):\n",
        "  def __init__(self, frequency=10):\n",
        "    print(\"TensorFlow version: {}\".format(tf.__version__))\n",
        "    print(\"Eager execution: {}\".format(tf.executing_eagerly()))\n",
        "    print(\"GPU-accerelated: {}\".format(tf.test.is_gpu_available()))\n",
        "\n",
        "    self.start_time = time.time()\n",
        "    self.frequency = frequency\n",
        "\n",
        "  def __get_elapsed(self):\n",
        "    return datetime.fromtimestamp(time.time() - self.start_time).strftime(\"%M:%S\")\n",
        "\n",
        "  def __get_error_u(self):\n",
        "    return self.error_fn()\n",
        "\n",
        "  def set_error_fn(self, error_fn):\n",
        "    self.error_fn = error_fn\n",
        "  \n",
        "  def log_train_start(self, model):\n",
        "    print(\"\\nTraining started\")\n",
        "    print(\"================\")\n",
        "    self.model = model\n",
        "    print(self.model.summary())\n",
        "\n",
        "  def log_train_epoch(self, epoch, loss, cost1, cost2, cost3, cost4, cost5, custom=\"\", is_iter=False):\n",
        "    if epoch % self.frequency == 0:\n",
        "      print(f\"{'nt_epoch' if is_iter else 'tf_epoch'} = {epoch:6d}  elapsed = {self.__get_elapsed()}  loss = {loss:.4f} cost1 = {cost1:.4f} cost2 = {cost2:.4f} cost3 = {cost3:.4f} cost4 = {cost4:.4f} cost5 = {cost5:.4f}\" + custom)\n",
        "\n",
        "  def log_train_opt(self, name):\n",
        "    # print(f\"tf_epoch =      0  elapsed = 00:00  loss = 2.7391e-01  error = 9.0843e-01\")\n",
        "    print(f\"—— Starting {name} optimization ——\")\n",
        "\n",
        "  def log_train_end(self, epoch, custom=\"\"):\n",
        "    print(\"==================\")\n",
        "    print(f\"Training finished (epoch {epoch}): duration = {self.__get_elapsed()}  error = {self.__get_error_u():.4e}  \" + custom)"
      ],
      "execution_count": null,
      "outputs": []
    },
    {
      "cell_type": "code",
      "metadata": {
        "id": "jTHB_3EWMIkF"
      },
      "source": [
        "# # Time tracking functions\n",
        "global_time_list = []\n",
        "global_last_time = 0\n",
        "def reset_time():\n",
        "  global global_time_list, global_last_time\n",
        "  global_time_list = []\n",
        "  global_last_time = time.perf_counter()\n",
        "  \n",
        "def record_time():\n",
        "  global global_last_time, global_time_list\n",
        "  new_time = time.perf_counter()\n",
        "  global_time_list.append(new_time - global_last_time)\n",
        "  global_last_time = time.perf_counter()\n",
        "  #print(\"step: %.2f\"%(global_time_list[-1]*1000))\n",
        "\n",
        "def last_time():\n",
        "  \"\"\"Returns last interval records in millis.\"\"\"\n",
        "  global global_last_time, global_time_list\n",
        "  if global_time_list:\n",
        "    return 1000 * global_time_list[-1]\n",
        "  else:\n",
        "    return 0\n",
        "\n",
        "def get_real_median(v):\n",
        "    v = tf.reshape(v, [-1])\n",
        "    l = v.get_shape()[0]\n",
        "    mid = l//2 + 1\n",
        "    val = tf.nn.top_k(v, mid).values\n",
        "    if l % 2 == 1:\n",
        "        return val[-1]\n",
        "    else:\n",
        "        return 0.5 * (val[-1] + val[-2])\n",
        "\n",
        "class dummy(object):\n",
        "  pass\n",
        "\n",
        "class Struct(dummy):\n",
        "  def __getattribute__(self, key):\n",
        "    if key == '__dict__':\n",
        "      return super(dummy, self).__getattribute__('__dict__')\n",
        "    return self.__dict__.get(key, 0)"
      ],
      "execution_count": null,
      "outputs": []
    },
    {
      "cell_type": "markdown",
      "metadata": {
        "id": "Rn424F4qNtc7"
      },
      "source": [
        "# Fisher's Ratio for Feature Selection"
      ]
    },
    {
      "cell_type": "code",
      "metadata": {
        "colab": {
          "base_uri": "https://localhost:8080/"
        },
        "id": "jCZQP_buKicM",
        "outputId": "22073ed7-5792-4394-e65b-2e91c5f10870"
      },
      "source": [
        "%cd '/content/drive/My Drive/FYP/Jan2022/FeatureSelection'"
      ],
      "execution_count": null,
      "outputs": [
        {
          "output_type": "stream",
          "name": "stdout",
          "text": [
            "/content/drive/My Drive/FYP/Jan2022/FeatureSelection\n"
          ]
        }
      ]
    },
    {
      "cell_type": "code",
      "metadata": {
        "id": "TwQq-yq5MMaK"
      },
      "source": [
        "data_mat = scipy.io.loadmat('DataTennessee_FE(Time_Statistics,0.5s,overlap=0).mat')\n",
        "data_all = data_mat['DATA']\n",
        "data_all_cycle = data_mat['InfoMat']"
      ],
      "execution_count": null,
      "outputs": []
    },
    {
      "cell_type": "code",
      "metadata": {
        "id": "7pYa2EdlNlQ-"
      },
      "source": [
        "\n",
        "data_feature = ['p1', 'p2', 'p3', 'p4', 'p5', 'p6', 'p7', 'p8', 'p9', 'p10', 'p11' ]\n",
        "data_signal = ['Current1', 'Current2', 'Current3', 'Voltage1', 'Voltage2', 'Voltage3', 'Accelerometer1', 'Accelerometer2', 'Microphone', 'Tachometer', 'Temperature']\n",
        "\"\"\"Labelling Plus Converting to Pandas Data Frame\"\"\"\n",
        "data_column = []\n",
        "for i in data_signal:\n",
        "  for j in data_feature:\n",
        "    data_column.append(i + \"_\" + j)\n",
        "df = pd.DataFrame(data_all, columns = data_column)\n",
        "df1 = pd.DataFrame(data_all_cycle, columns = ['motor_id', 'cycle', 'ignored'])\n",
        "df_total = pd.concat([df, df1], axis=1, join=\"inner\")\n",
        "\"\"\"Engine Data\"\"\"\n",
        "eng_healthy = df_total[(df_total.cycle.isin([1,2,3,4]))]\n",
        "eng_healthy.pop('ignored')\n",
        "eng_healthy_mean = []\n",
        "eng_healthy_var = []\n",
        "for feature_name in data_column:\n",
        "  eng_healthy_mean.append(eng_healthy[feature_name].mean())\n",
        "  eng_healthy_var.append(eng_healthy[feature_name].var())\n",
        "eng_healthy_mean = np.array(eng_healthy_mean)\n",
        "eng_healthy_var = np.array(eng_healthy_var)\n",
        "eng_faulty = df_total[((df_total.motor_id == 1) & (df_total.cycle >=15))| ((df_total.motor_id == 2) & (df_total.cycle >=25))| ((df_total.motor_id == 3) & (df_total.cycle >=23))| ((df_total.motor_id == 4) & (df_total.cycle >=26))| ((df_total.motor_id == 5) & (df_total.cycle >=25))| ((df_total.motor_id == 6) & (df_total.cycle >=24))| ((df_total.motor_id == 7) & (df_total.cycle >=24))| ((df_total.motor_id == 9) & (df_total.cycle >=22))]\n",
        "eng_faulty.pop('ignored')\n",
        "eng_faulty_mean = []\n",
        "eng_faulty_var = []\n",
        "for feature_name in data_column:\n",
        "  eng_faulty_mean.append(eng_faulty[feature_name].mean())\n",
        "  eng_faulty_var.append(eng_faulty[feature_name].var())\n",
        "eng_faulty_mean = np.array(eng_faulty_mean)\n",
        "eng_faulty_var = np.array(eng_faulty_var)\n",
        "fisher_ratio = np.square(eng_healthy_mean - eng_faulty_mean)/(eng_healthy_var + eng_faulty_var)\n",
        "###### Select the top number of features to choose\n",
        "## change the number of features\n",
        "select_top_feature = 5\n",
        "fisher_ratio_index = fisher_ratio.argsort()[(-1*select_top_feature):][::-1]"
      ],
      "execution_count": null,
      "outputs": []
    },
    {
      "cell_type": "markdown",
      "metadata": {
        "id": "9jligBAaS8gv"
      },
      "source": [
        "# PINNs"
      ]
    },
    {
      "cell_type": "code",
      "metadata": {
        "id": "WoIkmapWS6N1"
      },
      "source": [
        "class PINNs(object):\n",
        "  def __init__(self, layers, optimizer, logger, feature_f_train, cycle_f_train, ub, lb):\n",
        "    # Descriptive Keras model [no of features, 50, 1]\n",
        "    self.hi_model = tf.keras.Sequential()\n",
        "    self.hi_model.add(tf.keras.layers.InputLayer(input_shape=(layers[0],)))\n",
        "    self.hi_model.add(tf.keras.layers.Lambda(\n",
        "      lambda X: 2.0*(X - lb)/(ub - lb) - 1.0))\n",
        "    for width in layers[1:]:\n",
        "        self.hi_model.add(tf.keras.layers.Dense(\n",
        "          width, activation=tf.math.sigmoid,\n",
        "          kernel_initializer='glorot_normal'))\n",
        "\n",
        "    # Computing the sizes of weights/biases for future decomposition\n",
        "    self.sizes_w = []\n",
        "    self.sizes_b = []\n",
        "    for i, width in enumerate(layers):\n",
        "      if i != 1:\n",
        "        self.sizes_w.append(int(width * layers[1]))\n",
        "        self.sizes_b.append(int(width if i != 0 else layers[1]))\n",
        "\n",
        "    self.optimizer = optimizer\n",
        "    self.logger = logger\n",
        "    self.dtype = tf.float32\n",
        "    self.cycle_f_train = cycle_f_train\n",
        "    self.feature_f_train = feature_f_train\n",
        "    self.max_cycle = int(max(cycle_f_train))\n",
        "    # self.feature_f_train_tf = tf.convert_to_tensor(feature_f_train, dtype=self.dtype)\n"
      ],
      "execution_count": null,
      "outputs": []
    },
    {
      "cell_type": "markdown",
      "metadata": {
        "id": "HEiof-vQXqUe"
      },
      "source": [
        "Weights and Biases Initialisation"
      ]
    },
    {
      "cell_type": "code",
      "metadata": {
        "id": "hIAiclC1Ux6P"
      },
      "source": [
        "# def get_weights(self):\n",
        "#   w = []\n",
        "#   for layer in self.hi_model.layers[1:]:\n",
        "#     weights_biases = layer.get_weights()\n",
        "#     weights = weights_biases[0].flatten()\n",
        "#     biases = weights_biases[1]\n",
        "#     w.extend(weights)\n",
        "#     w.extend(biases)\n",
        "#   return tf.convert_to_tensor(w, dtype=self.dtype)\n",
        "# PINNs.get_weights = get_weights\n",
        "# def set_weights(self, w):\n",
        "#   for i, layer in enumerate(self.hi_model.layers[1:]):\n",
        "#     start_weights = sum(self.sizes_w[:i]) + sum(self.sizes_b[:i])\n",
        "#     end_weights = sum(self.sizes_w[:i+1]) + sum(self.sizes_b[:i])\n",
        "#     weights = w[start_weights:end_weights]\n",
        "#     w_div = int(self.sizes_w[i] / self.sizes_b[i])\n",
        "#     weights = tf.reshape(weights, [w_div, self.sizes_b[i]])\n",
        "#     biases = w[end_weights:end_weights + self.sizes_b[i]]\n",
        "#     weights_biases = [weights, biases]\n",
        "#     layer.set_weights(weights_biases)\n",
        "# PINNs.set_weights = set_weights\n",
        "def summary(self):\n",
        "  return self.hi_model.summary()\n",
        "PINNs.summary = summary"
      ],
      "execution_count": null,
      "outputs": []
    },
    {
      "cell_type": "markdown",
      "metadata": {
        "id": "_3wZrEU3XwY9"
      },
      "source": [
        "Loss"
      ]
    },
    {
      "cell_type": "code",
      "metadata": {
        "id": "NJpEjFWAVFG8"
      },
      "source": [
        "# Defining custom loss\n",
        "def __loss(self, hi_first, hi_first_pred, hi_last_pred):\n",
        "  cost1 = tf.reduce_mean(tf.square(self.net_cost1()))\n",
        "  cost2 = tf.reduce_mean(tf.square(self.net_cost2()))\n",
        "  cost3 = tf.reduce_mean(tf.square(self.net_cost3()))\n",
        "  cost4 = tf.reduce_mean(tf.square(self.net_cost4(hi_last_pred)))\n",
        "  cost5 = tf.reduce_mean(tf.square(hi_first - hi_first_pred))\n",
        "  loss = cost1 + cost2 + cost3 + cost4 + cost5\n",
        "\n",
        "  return loss, cost1, cost2, cost3, cost4, cost5\n",
        "PINNs.__loss = __loss\n",
        "\n",
        "def __grad(self, feature_first, feature_last, hi_first):\n",
        "  with tf.GradientTape() as tape:\n",
        "    loss_value, cost1, cost2, cost3, cost4, cost5 = self.__loss(hi_first, self.hi_model(feature_first), self.hi_model(feature_last))\n",
        "  return loss_value, tape.gradient(loss_value, self.__wrap_training_variables()), cost1, cost2, cost3, cost4, cost5\n",
        "PINNs.__grad = __grad\n",
        "\n",
        "def __wrap_training_variables(self):\n",
        "  var = self.hi_model.trainable_variables\n",
        "  return var\n",
        "PINNs.__wrap_training_variables = __wrap_training_variables"
      ],
      "execution_count": null,
      "outputs": []
    },
    {
      "cell_type": "markdown",
      "metadata": {
        "id": "9C8slwNBX-_c"
      },
      "source": [
        "PINNs"
      ]
    },
    {
      "cell_type": "code",
      "metadata": {
        "id": "6aneobGfaOKj"
      },
      "source": [
        "# cost1 represents cycle2 must be less than or equal to cycle1\n",
        "def net_cost1(self):\n",
        "    total_change = []\n",
        "    for i in range(1, self.max_cycle):\n",
        "        feature_cycle1 = self.feature_f_train[self.cycle_f_train[:,0] == i]\n",
        "        feature_cycle2 = self.feature_f_train[self.cycle_f_train[:,0] == i+1]\n",
        "        hi_cycle1 = self.hi_model(feature_cycle1)\n",
        "        hi_cycle2 = self.hi_model(feature_cycle2)\n",
        "        # change = tf.math.reduce_mean(hi_cycle2) - tf.math.reduce_mean(hi_cycle1)\n",
        "        change = get_real_median(hi_cycle2) - get_real_median(hi_cycle1)\n",
        "        total_change.append(change)\n",
        "    total_change = tf.stack(total_change)\n",
        "    # cost1 = tf.keras.activations.hard_sigmoid(total_change)\n",
        "    cost1 = tf.keras.activations.relu(total_change)\n",
        "    # cost1 = tf.math.sigmoid(total_change)\n",
        "    return cost1\n",
        "PINNs.net_cost1 = net_cost1"
      ],
      "execution_count": null,
      "outputs": []
    },
    {
      "cell_type": "code",
      "metadata": {
        "id": "WpwX0vE8ag3P"
      },
      "source": [
        "# cost2 represents the deviation of the HI-value for within each cycle cannot be too huge\n",
        "def net_cost2(self):\n",
        "    total_mape = []\n",
        "    for i in range(1, self.max_cycle+1):\n",
        "        feature_cycle1 = self.feature_f_train[self.cycle_f_train[:, 0] == i]\n",
        "        hi_pred = self.hi_model(feature_cycle1)\n",
        "        hi_true = tf.math.reduce_mean(hi_pred)\n",
        "        mape = tf.stack(tf.keras.metrics.mean_absolute_percentage_error(hi_true, hi_pred))\n",
        "        total_mape = tf.concat([total_mape, mape],0)\n",
        "    cost2 = tf.stack(total_mape)\n",
        "    # sum_mape = tf.stack(total_mape)\n",
        "    # cost2 = tf.math.sigmoid(sum_mape)\n",
        "    return cost2\n",
        "PINNs.net_cost2 = net_cost2"
      ],
      "execution_count": null,
      "outputs": []
    },
    {
      "cell_type": "code",
      "metadata": {
        "id": "DTzfMoRBamFr"
      },
      "source": [
        "# cost3 represents the drop between two cycle cannot be too big\n",
        "def net_cost3(self):\n",
        "    total_drop = []\n",
        "    for i in range(1, self.max_cycle):\n",
        "        feature_cycle1 = self.feature_f_train[self.cycle_f_train[:, 0] == i]\n",
        "        feature_cycle2 = self.feature_f_train[self.cycle_f_train[:, 0] == i + 1]\n",
        "        hi_cycle1 = self.hi_model(feature_cycle1)\n",
        "        hi_cycle2 = self.hi_model(feature_cycle2)\n",
        "        # hi previous - hi_subsequent = 0.2*hi previous\n",
        "        # drop = 0.8 * tf.math.reduce_mean(hi_cycle1) - tf.math.reduce_mean(hi_cycle2)\n",
        "        drop = 0.8 * get_real_median(hi_cycle1) - get_real_median(hi_cycle2)\n",
        "        total_drop.append(drop)\n",
        "    total_drop = tf.stack(total_drop)\n",
        "    cost3 = tf.keras.activations.relu(total_drop)\n",
        "    # cost3 = tf.math.sigmoid(total_drop)\n",
        "    return cost3\n",
        "PINNs.net_cost3 = net_cost3"
      ],
      "execution_count": null,
      "outputs": []
    },
    {
      "cell_type": "code",
      "source": [
        "# cost4 represents the loss function for the last cycle where the HI value must be less than 0.1\n",
        "def net_cost4(self, hi_last_pred):\n",
        "  drop = hi_last_pred - 0.1\n",
        "  cost4 = tf.keras.activations.relu(drop)\n",
        "  return cost4\n",
        "PINNs.net_cost4 = net_cost4"
      ],
      "metadata": {
        "id": "PsfjNweQiMrq"
      },
      "execution_count": null,
      "outputs": []
    },
    {
      "cell_type": "markdown",
      "metadata": {
        "id": "FQSM1ZFZYBBb"
      },
      "source": [
        "Train"
      ]
    },
    {
      "cell_type": "code",
      "metadata": {
        "id": "BERIRKpTV_07"
      },
      "source": [
        "# The training function\n",
        "def fit(self, feature_first, feature_last, hi_first, tf_epochs=300, nt_config=Struct()):\n",
        "  self.logger.log_train_start(self)\n",
        "\n",
        "  # Creating the tensors\n",
        "  feature_first = tf.convert_to_tensor(feature_first, dtype=self.dtype)\n",
        "  feature_last = tf.convert_to_tensor(feature_last, dtype=self.dtype)\n",
        "  hi_first = tf.convert_to_tensor(hi_first, dtype=self.dtype)\n",
        "\n",
        "  self.logger.log_train_opt(\"Adam\")\n",
        "  for epoch in range(tf_epochs):\n",
        "    # Optimization step\n",
        "    loss_value, grads, cost1, cost2, cost3, cost4, cost5 = self.__grad(feature_first, feature_last, hi_first)\n",
        "    self.optimizer.apply_gradients(zip(grads, self.__wrap_training_variables()))\n",
        "    self.logger.log_train_epoch(epoch, loss_value, cost1, cost2, cost3, cost4, cost5)\n",
        "PINNs.fit = fit"
      ],
      "execution_count": null,
      "outputs": []
    },
    {
      "cell_type": "markdown",
      "metadata": {
        "id": "2NBl-C2sYC5N"
      },
      "source": [
        "Predict"
      ]
    },
    {
      "cell_type": "code",
      "metadata": {
        "id": "x-swQ3R6WBgl"
      },
      "source": [
        "def predict(self, feature):\n",
        "  hi_pred = self.hi_model(feature)\n",
        "  return hi_pred\n",
        "PINNs.predict = predict"
      ],
      "execution_count": null,
      "outputs": []
    },
    {
      "cell_type": "markdown",
      "metadata": {
        "id": "XhuJfDAqN_fT"
      },
      "source": [
        "# Training Data"
      ]
    },
    {
      "cell_type": "code",
      "metadata": {
        "id": "F6CV6rMtR6dU"
      },
      "source": [
        "# DeepNN topology \n",
        "layers = [int(len(fisher_ratio_index)), 50, 1]\n",
        "# Setting up the TF SGD-based optimizer (set tf_epochs=0 to cancel it)\n",
        "tf_epochs = 300\n",
        "# tf_optimizer = tf.keras.optimizers.Adadelta(\n",
        "#     learning_rate=0.001, rho=0.95, epsilon=1e-07, name='Adadelta')\n",
        "# tf_optimizer = tf.keras.optimizers.Adagrad(\n",
        "#     learning_rate=0.001, initial_accumulator_value=0.1, epsilon=1e-07,\n",
        "#     name='Adagrad')\n",
        "tf_optimizer = tf.keras.optimizers.Adam(learning_rate=0.001, beta_1=0.9, beta_2=0.999, epsilon=1e-07, amsgrad=True,\n",
        "    name='Adam')\n",
        "# tf_optimizer = tf.keras.optimizers.Adamax(\n",
        "#     learning_rate=0.001, beta_1=0.9, beta_2=0.999, epsilon=1e-07,\n",
        "#     name='Adamax')\n",
        "# tf_optimizer =tf.keras.optimizers.Ftrl(\n",
        "#     learning_rate=0.001, learning_rate_power=-0.5, initial_accumulator_value=0.1,\n",
        "#     l1_regularization_strength=0.0, l2_regularization_strength=0.0,\n",
        "#     name='Ftrl', l2_shrinkage_regularization_strength=0.0, beta=0.0)\n",
        "# tf_optimizer = tf.keras.optimizers.Nadam(\n",
        "#     learning_rate=0.001, beta_1=0.9, beta_2=0.999, epsilon=1e-07,\n",
        "#     name='Nadam')\n",
        "# tf_optimizer = tf.keras.optimizers.RMSprop(\n",
        "#     learning_rate=0.001, rho=0.9, momentum=0.0, epsilon=1e-07, centered=False,\n",
        "#     name='RMSprop')\n",
        "# tf_optimizer = tf.keras.optimizers.SGD(\n",
        "#     learning_rate=0.01, momentum=0.0001, nesterov=False, name='SGD')\n",
        "\n",
        "\n",
        "nt_config = Struct()"
      ],
      "execution_count": null,
      "outputs": []
    },
    {
      "cell_type": "code",
      "metadata": {
        "id": "0_Bake3JNqPq"
      },
      "source": [
        "###### Select engine to train\n",
        "select_engine = 1\n",
        "select_engine_idx = np.where(data_all_cycle[:,0] == select_engine)[0]\n",
        "\n",
        "# extracts the top features for all engines\n",
        "data_feature = data_all[:, fisher_ratio_index]\n",
        "# extracts the top features for the selected engine\n",
        "feature_f_train = data_feature[select_engine_idx]\n",
        "# extracts only the cycles for all engines\n",
        "data_cycle = data_all_cycle[:,1:2]\n",
        "# extracts only the cycles for the selected engine\n",
        "cycle_f_train = data_cycle[select_engine_idx]\n",
        "\n",
        "\"\"\"Boundary Conditions for cycle, features and hi\"\"\"\n",
        "# First cycle\n",
        "min_cycle = int(min(cycle_f_train))\n",
        "select_min_cycle = np.where(cycle_f_train[:,0] == min_cycle)[0]\n",
        "# Last cycle\n",
        "max_cycle = int(max(cycle_f_train))\n",
        "select_max_cycle = np.where(cycle_f_train[:,0] == max_cycle)[0]\n",
        "\n",
        "# Features for the first cycle\n",
        "feature_first = feature_f_train[select_min_cycle]\n",
        "\n",
        "# Features for the last cycle\n",
        "feature_last = feature_f_train[select_max_cycle]\n",
        "# Features at the boundary conditions\n",
        "# feature_b_train = np.vstack((feature_first, feature_last))\n",
        "\n",
        "# Ground state of HI for the boundary conditions\n",
        "hi_first = np.ones((len(select_min_cycle), 1))\n",
        "\n",
        "# hi_last = np.ones((len(select_max_cycle), 1))*0.1\n",
        "# HI values at the boundary conditions\n",
        "# hi_b_train = np.vstack((hi_first, hi_last))\n",
        "\n",
        "# Boundaries of the maximum and minimum features\n",
        "lb = feature_f_train.min(0)\n",
        "ub = feature_f_train.max(0)"
      ],
      "execution_count": null,
      "outputs": []
    },
    {
      "cell_type": "code",
      "metadata": {
        "id": "uW5P1IKRXH6C",
        "colab": {
          "base_uri": "https://localhost:8080/"
        },
        "outputId": "316dac3c-e326-4e5a-e1d6-9e67bdb68497"
      },
      "source": [
        "# Creating the model and training\n",
        "logger = Logger(frequency=10)\n",
        "pinn = PINNs(layers, tf_optimizer, logger, feature_f_train, cycle_f_train, ub, lb)\n",
        "# def error():\n",
        "#   hi_pred, _ = pinn.predict(feature_f_train)\n",
        "#   return np.linalg.norm(x_star - hi_pred, 2) / np.linalg.norm(x_star, 2)\n",
        "# logger.set_error_fn(error)\n",
        "pinn.fit(feature_first, feature_last, hi_first, tf_epochs, nt_config)"
      ],
      "execution_count": null,
      "outputs": [
        {
          "output_type": "stream",
          "name": "stdout",
          "text": [
            "TensorFlow version: 2.8.0\n",
            "Eager execution: True\n",
            "WARNING:tensorflow:From <ipython-input-2-2939d194661b>:5: is_gpu_available (from tensorflow.python.framework.test_util) is deprecated and will be removed in a future version.\n",
            "Instructions for updating:\n",
            "Use `tf.config.list_physical_devices('GPU')` instead.\n",
            "GPU-accerelated: False\n",
            "\n",
            "Training started\n",
            "================\n",
            "Model: \"sequential\"\n",
            "_________________________________________________________________\n",
            " Layer (type)                Output Shape              Param #   \n",
            "=================================================================\n",
            " lambda (Lambda)             (None, 5)                 0         \n",
            "                                                                 \n",
            " dense (Dense)               (None, 50)                300       \n",
            "                                                                 \n",
            " dense_1 (Dense)             (None, 1)                 51        \n",
            "                                                                 \n",
            "=================================================================\n",
            "Total params: 351\n",
            "Trainable params: 351\n",
            "Non-trainable params: 0\n",
            "_________________________________________________________________\n",
            "None\n",
            "—— Starting Adam optimization ——\n",
            "tf_epoch =      0  elapsed = 00:01  loss = 3.4859 cost1 = 0.0000 cost2 = 2.9928 cost3 = 0.0000 cost4 = 0.0497 cost5 = 0.4434\n",
            "tf_epoch =     10  elapsed = 00:12  loss = 1.2369 cost1 = 0.0000 cost2 = 0.7544 cost3 = 0.0000 cost4 = 0.0603 cost5 = 0.4222\n",
            "tf_epoch =     20  elapsed = 00:24  loss = 0.6785 cost1 = 0.0000 cost2 = 0.2032 cost3 = 0.0000 cost4 = 0.0681 cost5 = 0.4073\n",
            "tf_epoch =     30  elapsed = 00:32  loss = 0.6524 cost1 = 0.0000 cost2 = 0.1886 cost3 = 0.0000 cost4 = 0.0752 cost5 = 0.3886\n",
            "tf_epoch =     40  elapsed = 00:36  loss = 0.5782 cost1 = 0.0000 cost2 = 0.1298 cost3 = 0.0000 cost4 = 0.0833 cost5 = 0.3651\n",
            "tf_epoch =     50  elapsed = 00:41  loss = 0.5265 cost1 = 0.0000 cost2 = 0.0899 cost3 = 0.0000 cost4 = 0.0916 cost5 = 0.3450\n",
            "tf_epoch =     60  elapsed = 00:45  loss = 0.5007 cost1 = 0.0000 cost2 = 0.0703 cost3 = 0.0000 cost4 = 0.0993 cost5 = 0.3311\n",
            "tf_epoch =     70  elapsed = 00:50  loss = 0.4778 cost1 = 0.0000 cost2 = 0.0504 cost3 = 0.0000 cost4 = 0.1063 cost5 = 0.3211\n",
            "tf_epoch =     80  elapsed = 00:54  loss = 0.4609 cost1 = 0.0000 cost2 = 0.0361 cost3 = 0.0000 cost4 = 0.1128 cost5 = 0.3120\n",
            "tf_epoch =     90  elapsed = 00:59  loss = 0.4483 cost1 = 0.0000 cost2 = 0.0268 cost3 = 0.0000 cost4 = 0.1189 cost5 = 0.3026\n",
            "tf_epoch =    100  elapsed = 01:03  loss = 0.4384 cost1 = 0.0000 cost2 = 0.0204 cost3 = 0.0000 cost4 = 0.1248 cost5 = 0.2932\n",
            "tf_epoch =    110  elapsed = 01:08  loss = 0.4308 cost1 = 0.0000 cost2 = 0.0158 cost3 = 0.0000 cost4 = 0.1304 cost5 = 0.2846\n",
            "tf_epoch =    120  elapsed = 01:13  loss = 0.4249 cost1 = 0.0000 cost2 = 0.0122 cost3 = 0.0000 cost4 = 0.1359 cost5 = 0.2768\n",
            "tf_epoch =    130  elapsed = 01:17  loss = 0.4203 cost1 = 0.0000 cost2 = 0.0095 cost3 = 0.0000 cost4 = 0.1412 cost5 = 0.2696\n",
            "tf_epoch =    140  elapsed = 01:22  loss = 0.4167 cost1 = 0.0000 cost2 = 0.0076 cost3 = 0.0000 cost4 = 0.1462 cost5 = 0.2629\n",
            "tf_epoch =    150  elapsed = 01:26  loss = 0.4139 cost1 = 0.0000 cost2 = 0.0062 cost3 = 0.0000 cost4 = 0.1510 cost5 = 0.2567\n",
            "tf_epoch =    160  elapsed = 01:31  loss = 0.4117 cost1 = 0.0000 cost2 = 0.0052 cost3 = 0.0000 cost4 = 0.1556 cost5 = 0.2509\n",
            "tf_epoch =    170  elapsed = 01:35  loss = 0.4099 cost1 = 0.0000 cost2 = 0.0044 cost3 = 0.0000 cost4 = 0.1599 cost5 = 0.2456\n",
            "tf_epoch =    180  elapsed = 01:40  loss = 0.4085 cost1 = 0.0000 cost2 = 0.0039 cost3 = 0.0000 cost4 = 0.1639 cost5 = 0.2407\n",
            "tf_epoch =    190  elapsed = 01:44  loss = 0.4074 cost1 = 0.0000 cost2 = 0.0035 cost3 = 0.0000 cost4 = 0.1676 cost5 = 0.2362\n",
            "tf_epoch =    200  elapsed = 01:49  loss = 0.4065 cost1 = 0.0000 cost2 = 0.0032 cost3 = 0.0000 cost4 = 0.1711 cost5 = 0.2321\n",
            "tf_epoch =    210  elapsed = 01:53  loss = 0.4058 cost1 = 0.0000 cost2 = 0.0030 cost3 = 0.0000 cost4 = 0.1744 cost5 = 0.2284\n",
            "tf_epoch =    220  elapsed = 01:58  loss = 0.4052 cost1 = 0.0000 cost2 = 0.0029 cost3 = 0.0000 cost4 = 0.1773 cost5 = 0.2250\n",
            "tf_epoch =    230  elapsed = 02:05  loss = 0.4048 cost1 = 0.0000 cost2 = 0.0027 cost3 = 0.0000 cost4 = 0.1800 cost5 = 0.2220\n",
            "tf_epoch =    240  elapsed = 02:10  loss = 0.4044 cost1 = 0.0000 cost2 = 0.0026 cost3 = 0.0000 cost4 = 0.1825 cost5 = 0.2193\n",
            "tf_epoch =    250  elapsed = 02:14  loss = 0.4042 cost1 = 0.0000 cost2 = 0.0026 cost3 = 0.0000 cost4 = 0.1848 cost5 = 0.2168\n",
            "tf_epoch =    260  elapsed = 02:19  loss = 0.4039 cost1 = 0.0000 cost2 = 0.0025 cost3 = 0.0000 cost4 = 0.1868 cost5 = 0.2146\n",
            "tf_epoch =    270  elapsed = 02:23  loss = 0.4038 cost1 = 0.0000 cost2 = 0.0025 cost3 = 0.0000 cost4 = 0.1886 cost5 = 0.2127\n",
            "tf_epoch =    280  elapsed = 02:28  loss = 0.4036 cost1 = 0.0000 cost2 = 0.0025 cost3 = 0.0000 cost4 = 0.1903 cost5 = 0.2109\n",
            "tf_epoch =    290  elapsed = 02:32  loss = 0.4035 cost1 = 0.0000 cost2 = 0.0024 cost3 = 0.0000 cost4 = 0.1917 cost5 = 0.2094\n"
          ]
        }
      ]
    },
    {
      "cell_type": "code",
      "metadata": {
        "id": "O0MYQsk7enkr"
      },
      "source": [
        "###### Select engine to test\n",
        "select_engine_to_test = 1\n",
        "select_engine_to_test_idx = np.where((data_all_cycle[:,0] == select_engine_to_test))[0]\n",
        "# extracts the top 20 features for the selected engine\n",
        "feature_f_test = data_feature[select_engine_to_test_idx]\n"
      ],
      "execution_count": null,
      "outputs": []
    },
    {
      "cell_type": "code",
      "metadata": {
        "id": "lVpAwxqTegmR"
      },
      "source": [
        "# Getting the model predictions, from the same (x,t) that the predictions were previously gotten from\n",
        "hi_pred = pinn.predict(feature_f_test)"
      ],
      "execution_count": null,
      "outputs": []
    },
    {
      "cell_type": "code",
      "metadata": {
        "id": "CefotRnmuywn",
        "colab": {
          "base_uri": "https://localhost:8080/",
          "height": 295
        },
        "outputId": "d84d91b4-6c26-412b-f5a2-090a2c3df6a0"
      },
      "source": [
        "cycle_f_test = data_cycle[select_engine_to_test_idx]\n",
        "# First cycle\n",
        "min_cycle_test = int(min(cycle_f_test))\n",
        "# Last cycle\n",
        "max_cycle_test = int(max(cycle_f_test))\n",
        "\n",
        "# Creating Mean values\n",
        "hi_pred_mean = []\n",
        "cycle_plot = []\n",
        "\n",
        "for i in range(min_cycle_test, max_cycle_test+1):\n",
        "    hi_mean_row = np.mean(hi_pred.numpy()[np.where(cycle_f_test[:,0] == i)[0]])\n",
        "    cycle_row = i\n",
        "    hi_pred_mean.append(hi_mean_row)\n",
        "    cycle_plot.append(cycle_row)\n",
        "\n",
        "\n",
        "# Plot the curve\n",
        "plt.title('Engine '+ str(select_engine_to_test) + ' - Health Index against No of Cycles')\n",
        "plt.plot(cycle_f_test, hi_pred, 'x', label='Predicted Value')\n",
        "plt.plot(cycle_plot, hi_pred_mean, '-r', label='Mean Predicted Value')\n",
        "plt.locator_params(axis='x', integer=True, tight=True)\n",
        "plt.legend()\n",
        "plt.xlabel('cycle')\n",
        "plt.ylabel('health index value')\n",
        "plt.show()"
      ],
      "execution_count": null,
      "outputs": [
        {
          "output_type": "display_data",
          "data": {
            "image/png": "[encoded data removed]",
            "text/plain": [
              "<Figure size 432x288 with 1 Axes>"
            ]
          },
          "metadata": {
            "needs_background": "light"
          }
        }
      ]
    }
  ]
}